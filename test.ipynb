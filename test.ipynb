{
 "cells": [
  {
   "cell_type": "code",
   "execution_count": 4,
   "metadata": {},
   "outputs": [
    {
     "name": "stdout",
     "output_type": "stream",
     "text": [
      "日期 240422\n",
      "<class 'str'>\n",
      "final_order_240422\n",
      "data\n",
      "{'_id': '20', 'Date': '2024-04-22', 'location': '六條岔道', 'party_name': '22', 'point': '1', 'time': '21:40', 'trade_name': '123', 'userId': 'Uf8e734e58b67c12e0de1cd574a1718da', 'writetime': '2024-04-22T21:06'}\n"
     ]
    }
   ],
   "source": [
    "import pymongo\n",
    "from datetime import datetime,timedelta,timezone\n",
    "import configparser\n",
    "config = configparser.ConfigParser()\n",
    "config.read('config.ini')\n",
    "\n",
    "username = config.get('mongodb', 'username')\n",
    "password = config.get('mongodb', 'password')\n",
    "hostlocation = config.get('mongodb', 'hostlocation')\n",
    "\n",
    "userId = \"Uf8e734e58b67c12e0de1cd574a1718da\"\n",
    "\n",
    "cluster_url =f\"mongodb+srv://{username}:{password}@{hostlocation}/?retryWrites=true&w=majority&appName=GueiMing\"\n",
    "myclient = pymongo.MongoClient(cluster_url, username=username,password=password)\n",
    "tzone = timezone(timedelta(hours=8))\n",
    "yeardate = datetime.now(tz=tzone)\n",
    "nowtime = yeardate + timedelta(minutes=30)\n",
    "# yeardate = yeardate.isoformat().split(\"T\")[0].replace(\"-\",\"\")[2:]\n",
    "yeardate = yeardate.isoformat().split(\"T\")[0]\n",
    "yeardate = yeardate.replace(\"-\",\"\")[2:]\n",
    "print(\"日期\",yeardate)\n",
    "mydb = myclient[\"buff_online\"]\n",
    "\n",
    "print(type(yeardate))\n",
    "mycol = mydb[f\"final_order_{yeardate}\"]\n",
    "print(f\"final_order_{yeardate}\")\n",
    "\n",
    "mydoc = mycol.find({})\n",
    "# mydoc = mycol.find({'userId':userId},{'Date':1,'time':1})\n",
    "# mydoc = mycol.find({'userId':userId}).sort('time',1)\n",
    "nowtime = nowtime.isoformat().split(\"T\")[1][:5]\n",
    "for data in mydoc:\n",
    "        print(\"data\")\n",
    "        print(data)"
   ]
  },
  {
   "cell_type": "code",
   "execution_count": 2,
   "metadata": {},
   "outputs": [
    {
     "name": "stdout",
     "output_type": "stream",
     "text": [
      "日期 240422\n"
     ]
    }
   ],
   "source": [
    "import pymongo\n",
    "from datetime import datetime,timedelta,timezone\n",
    "import configparser\n",
    "config = configparser.ConfigParser()\n",
    "config.read('config.ini')\n",
    "\n",
    "username = config.get('mongodb', 'username')\n",
    "password = config.get('mongodb', 'password')\n",
    "hostlocation = config.get('mongodb', 'hostlocation')\n",
    "\n",
    "userId = \"Uf8e734e58b67c12e0de1cd574a1718da\"\n",
    "\n",
    "cluster_url =f\"mongodb+srv://{username}:{password}@{hostlocation}/?retryWrites=true&w=majority&appName=GueiMing\"\n",
    "myclient = pymongo.MongoClient(cluster_url, username=username,password=password)\n",
    "tzone = timezone(timedelta(hours=8))\n",
    "yeardate = datetime.now(tz=tzone)\n",
    "nowtime = yeardate + timedelta(minutes=30)\n",
    "# yeardate = yeardate.isoformat().split(\"T\")[0].replace(\"-\",\"\")[2:]\n",
    "yeardate = yeardate.isoformat().split(\"T\")[0]\n",
    "yeardate = yeardate.replace(\"-\",\"\")[2:]\n",
    "print(\"日期\",yeardate)"
   ]
  },
  {
   "cell_type": "code",
   "execution_count": 6,
   "metadata": {},
   "outputs": [],
   "source": [
    "def dbmethod(database : str , collcetion : str):\n",
    "    mydb = myclient[database]\n",
    "    mycol =mydb[collcetion]\n",
    "    \n",
    "    return mycol"
   ]
  },
  {
   "cell_type": "code",
   "execution_count": 8,
   "metadata": {},
   "outputs": [],
   "source": [
    "tzone = timezone(timedelta(hours=8))\n",
    "yeardate = datetime.now(tz=tzone)\n",
    "nowtime = yeardate + timedelta(minutes=30)\n",
    "# yeardate = yeardate.isoformat().split(\"T\")[0].replace(\"-\",\"\")[2:]\n",
    "yeardate = yeardate.isoformat().split(\"T\")[0]\n",
    "yeardate = yeardate.replace(\"-\",\"\")[2:]\n",
    "\n",
    "\n",
    "mycol2 = dbmethod( \"buff_online\", f\"final_order_{yeardate}\")"
   ]
  },
  {
   "cell_type": "code",
   "execution_count": 10,
   "metadata": {},
   "outputs": [
    {
     "data": {
      "text/plain": [
       "{'_id': '20',\n",
       " 'Date': '2024-04-22',\n",
       " 'location': '六條岔道',\n",
       " 'party_name': '22',\n",
       " 'point': '1',\n",
       " 'time': '21:40',\n",
       " 'trade_name': '123',\n",
       " 'userId': 'Uf8e734e58b67c12e0de1cd574a1718da',\n",
       " 'writetime': '2024-04-22T21:06'}"
      ]
     },
     "execution_count": 10,
     "metadata": {},
     "output_type": "execute_result"
    }
   ],
   "source": [
    "mycol2.find_one({})"
   ]
  },
  {
   "cell_type": "code",
   "execution_count": 11,
   "metadata": {},
   "outputs": [
    {
     "ename": "TypeError",
     "evalue": "name must be an instance of str",
     "output_type": "error",
     "traceback": [
      "\u001b[1;31m---------------------------------------------------------------------------\u001b[0m",
      "\u001b[1;31mTypeError\u001b[0m                                 Traceback (most recent call last)",
      "Cell \u001b[1;32mIn[11], line 1\u001b[0m\n\u001b[1;32m----> 1\u001b[0m mycol3 \u001b[38;5;241m=\u001b[39m \u001b[43mdbmethod\u001b[49m\u001b[43m(\u001b[49m\u001b[43m \u001b[49m\u001b[38;5;124;43m\"\u001b[39;49m\u001b[38;5;124;43mbuff_online\u001b[39;49m\u001b[38;5;124;43m\"\u001b[39;49m\u001b[43m,\u001b[49m\u001b[43m \u001b[49m\u001b[38;5;241;43m123\u001b[39;49m\u001b[43m)\u001b[49m\n",
      "Cell \u001b[1;32mIn[6], line 3\u001b[0m, in \u001b[0;36mdbmethod\u001b[1;34m(database, collcetion)\u001b[0m\n\u001b[0;32m      1\u001b[0m \u001b[38;5;28;01mdef\u001b[39;00m \u001b[38;5;21mdbmethod\u001b[39m(database : \u001b[38;5;28mstr\u001b[39m , collcetion : \u001b[38;5;28mstr\u001b[39m):\n\u001b[0;32m      2\u001b[0m     mydb \u001b[38;5;241m=\u001b[39m myclient[database]\n\u001b[1;32m----> 3\u001b[0m     mycol \u001b[38;5;241m=\u001b[39m\u001b[43mmydb\u001b[49m\u001b[43m[\u001b[49m\u001b[43mcollcetion\u001b[49m\u001b[43m]\u001b[49m\n\u001b[0;32m      5\u001b[0m     \u001b[38;5;28;01mreturn\u001b[39;00m mycol\n",
      "File \u001b[1;32mc:\\Users\\aaaa2\\.virtualenvs\\Buffonline-tBp-H5aw\\lib\\site-packages\\pymongo\\database.py:240\u001b[0m, in \u001b[0;36mDatabase.__getitem__\u001b[1;34m(self, name)\u001b[0m\n\u001b[0;32m    232\u001b[0m \u001b[38;5;28;01mdef\u001b[39;00m \u001b[38;5;21m__getitem__\u001b[39m(\u001b[38;5;28mself\u001b[39m, name: \u001b[38;5;28mstr\u001b[39m) \u001b[38;5;241m-\u001b[39m\u001b[38;5;241m>\u001b[39m Collection[_DocumentType]:\n\u001b[0;32m    233\u001b[0m \u001b[38;5;250m    \u001b[39m\u001b[38;5;124;03m\"\"\"Get a collection of this database by name.\u001b[39;00m\n\u001b[0;32m    234\u001b[0m \n\u001b[0;32m    235\u001b[0m \u001b[38;5;124;03m    Raises InvalidName if an invalid collection name is used.\u001b[39;00m\n\u001b[1;32m   (...)\u001b[0m\n\u001b[0;32m    238\u001b[0m \u001b[38;5;124;03m      - `name`: the name of the collection to get\u001b[39;00m\n\u001b[0;32m    239\u001b[0m \u001b[38;5;124;03m    \"\"\"\u001b[39;00m\n\u001b[1;32m--> 240\u001b[0m     \u001b[38;5;28;01mreturn\u001b[39;00m \u001b[43mCollection\u001b[49m\u001b[43m(\u001b[49m\u001b[38;5;28;43mself\u001b[39;49m\u001b[43m,\u001b[49m\u001b[43m \u001b[49m\u001b[43mname\u001b[49m\u001b[43m)\u001b[49m\n",
      "File \u001b[1;32mc:\\Users\\aaaa2\\.virtualenvs\\Buffonline-tBp-H5aw\\lib\\site-packages\\pymongo\\collection.py:224\u001b[0m, in \u001b[0;36mCollection.__init__\u001b[1;34m(self, database, name, create, codec_options, read_preference, write_concern, read_concern, session, **kwargs)\u001b[0m\n\u001b[0;32m    217\u001b[0m \u001b[38;5;28msuper\u001b[39m()\u001b[38;5;241m.\u001b[39m\u001b[38;5;21m__init__\u001b[39m(\n\u001b[0;32m    218\u001b[0m     codec_options \u001b[38;5;129;01mor\u001b[39;00m database\u001b[38;5;241m.\u001b[39mcodec_options,\n\u001b[0;32m    219\u001b[0m     read_preference \u001b[38;5;129;01mor\u001b[39;00m database\u001b[38;5;241m.\u001b[39mread_preference,\n\u001b[0;32m    220\u001b[0m     write_concern \u001b[38;5;129;01mor\u001b[39;00m database\u001b[38;5;241m.\u001b[39mwrite_concern,\n\u001b[0;32m    221\u001b[0m     read_concern \u001b[38;5;129;01mor\u001b[39;00m database\u001b[38;5;241m.\u001b[39mread_concern,\n\u001b[0;32m    222\u001b[0m )\n\u001b[0;32m    223\u001b[0m \u001b[38;5;28;01mif\u001b[39;00m \u001b[38;5;129;01mnot\u001b[39;00m \u001b[38;5;28misinstance\u001b[39m(name, \u001b[38;5;28mstr\u001b[39m):\n\u001b[1;32m--> 224\u001b[0m     \u001b[38;5;28;01mraise\u001b[39;00m \u001b[38;5;167;01mTypeError\u001b[39;00m(\u001b[38;5;124m\"\u001b[39m\u001b[38;5;124mname must be an instance of str\u001b[39m\u001b[38;5;124m\"\u001b[39m)\n\u001b[0;32m    226\u001b[0m \u001b[38;5;28;01mif\u001b[39;00m \u001b[38;5;129;01mnot\u001b[39;00m name \u001b[38;5;129;01mor\u001b[39;00m \u001b[38;5;124m\"\u001b[39m\u001b[38;5;124m..\u001b[39m\u001b[38;5;124m\"\u001b[39m \u001b[38;5;129;01min\u001b[39;00m name:\n\u001b[0;32m    227\u001b[0m     \u001b[38;5;28;01mraise\u001b[39;00m InvalidName(\u001b[38;5;124m\"\u001b[39m\u001b[38;5;124mcollection names cannot be empty\u001b[39m\u001b[38;5;124m\"\u001b[39m)\n",
      "\u001b[1;31mTypeError\u001b[0m: name must be an instance of str"
     ]
    }
   ],
   "source": [
    "mycol3 = dbmethod( \"buff_online\", 123)"
   ]
  },
  {
   "cell_type": "code",
   "execution_count": 20,
   "metadata": {},
   "outputs": [
    {
     "name": "stdout",
     "output_type": "stream",
     "text": [
      "{'Uf8e734e58b67c12e0de1cd574a1718da': ['2024-04-22', '21:40']}\n",
      "['Uf8e734e58b67c12e0de1cd574a1718da']\n",
      "{'Uce735a5042b88aa7ce3b7b0a61694d6d': ['2024-03-25', '20:05']}\n",
      "['Uce735a5042b88aa7ce3b7b0a61694d6d']\n",
      "{'Uf8e734e58b67c12e0de1cd574a1718da': ['2024-04-22', '21:40'], 'Uce735a5042b88aa7ce3b7b0a61694d6d': ['2024-03-25', '20:05']}\n"
     ]
    }
   ],
   "source": [
    "mycol = dbmethod( \"buff_online\", \"userid_yeardate_time\")\n",
    "mydoc = mycol.find({},{\"_id\": 0,\"userid\":0})\n",
    "# mydoc = mycol.find({})\n",
    "# print(mydoc)\n",
    "USERID_YEARDATE_TIME = dict()\n",
    "for data in mydoc:\n",
    "    print(data)\n",
    "\n",
    "    print(list(data.keys()))\n",
    "    eachuserid = list(data.keys())[0]\n",
    "       \n",
    "    USERID_YEARDATE_TIME[eachuserid] = data[eachuserid]\n",
    "print(USERID_YEARDATE_TIME)"
   ]
  },
  {
   "cell_type": "markdown",
   "metadata": {},
   "source": [
    "mycol = dbmethod( \"buff_online\", \"userid_points\")\n",
    "mydoc = mycol.find_one({\"_id\": \"1\"})\n",
    "USERIDSLIST=set(mydoc[\"userids\"])\n",
    "print(mydoc)\n",
    "print(\"USERIDSLIST：\",USERIDSLIST)"
   ]
  },
  {
   "cell_type": "code",
   "execution_count": 31,
   "metadata": {},
   "outputs": [
    {
     "data": {
      "text/plain": [
       "UpdateResult({'n': 1, 'electionId': ObjectId('7fffffff00000000000001f4'), 'opTime': {'ts': Timestamp(1713801720, 26), 't': 500}, 'nModified': 0, 'ok': 1.0, '$clusterTime': {'clusterTime': Timestamp(1713801720, 26), 'signature': {'hash': b'\\xabP\\xe0\\xcd\\x90\\x02\\xfa\\x97v\\xda\\xd0>S\\xaa\\xa6\\xfc\\xc2\\x15#\\xad', 'keyId': 7306576339362906113}}, 'operationTime': Timestamp(1713801720, 26), 'updatedExisting': True}, acknowledged=True)"
      ]
     },
     "execution_count": 31,
     "metadata": {},
     "output_type": "execute_result"
    }
   ],
   "source": [
    "mycol = dbmethod( \"buff_online\", \"userid_trader_partner\")\n",
    "mycol.update_one({'_id': \"userid\"},{\"$set\":{\"3\":\"test\"}})\n"
   ]
  },
  {
   "cell_type": "code",
   "execution_count": 40,
   "metadata": {},
   "outputs": [
    {
     "name": "stdout",
     "output_type": "stream",
     "text": [
      "{'13': 4}\n"
     ]
    }
   ],
   "source": [
    "mycol = dbmethod( \"buff_online\", \"userid_trader_partner\")\n",
    "mydoc = mycol.find_one({'_id': \"userid\"},{\"_id\":0})\n",
    "print(mydoc)"
   ]
  },
  {
   "cell_type": "code",
   "execution_count": 44,
   "metadata": {},
   "outputs": [],
   "source": [
    "mycol = dbmethod( \"buff_online\", \"userid_trader_partner\")\n",
    "mydoc = mycol.update_one({'_id': \"userid\"},{\"$set\":{\"13\":4}},True)"
   ]
  },
  {
   "cell_type": "code",
   "execution_count": 41,
   "metadata": {},
   "outputs": [
    {
     "name": "stdout",
     "output_type": "stream",
     "text": [
      "{'13': 4}\n"
     ]
    }
   ],
   "source": [
    "mycol = dbmethod( \"buff_online\", \"userid_trader_partner\")\n",
    "mydoc = mycol.find_one({'_id': \"userid\"},{\"_id\":0})\n",
    "print(mydoc)"
   ]
  },
  {
   "cell_type": "code",
   "execution_count": 45,
   "metadata": {},
   "outputs": [
    {
     "name": "stdout",
     "output_type": "stream",
     "text": [
      "{'13': 4}\n"
     ]
    }
   ],
   "source": [
    "mycol = dbmethod( \"buff_online\", \"userid_trader_partner\")\n",
    "mydoc = mycol.find_one({\"_id\" : \"userid\"},{\"_id\":0})\n",
    "if mydoc is None:\n",
    "    USERID_TRADER_PARTNER = dict()\n",
    "else:\n",
    "    USERID_TRADER_PARTNER = mydoc\n",
    "print(USERID_TRADER_PARTNER)"
   ]
  },
  {
   "cell_type": "code",
   "execution_count": 47,
   "metadata": {},
   "outputs": [
    {
     "name": "stdout",
     "output_type": "stream",
     "text": [
      "{'_id': 'userid', 'Uf8e734e58b67c12e0de1cd574a1718da': ['安安。', '那你呢']}\n"
     ]
    }
   ],
   "source": [
    "mycol = dbmethod( \"buff_online\", \"userid_trader_partner\")\n",
    "mydoc = mycol.find_one({\"_id\":\"userid\"})\n",
    "print(mydoc[\"Uf8e734e58b67c12e0de1cd574a1718da\"])"
   ]
  },
  {
   "cell_type": "code",
   "execution_count": 1,
   "metadata": {},
   "outputs": [],
   "source": [
    "from mongofunction import dbmethod"
   ]
  },
  {
   "cell_type": "code",
   "execution_count": 2,
   "metadata": {},
   "outputs": [
    {
     "name": "stdout",
     "output_type": "stream",
     "text": [
      "id: 08\n",
      "{'2024-08-01': [], '2024-08-02': [], '2024-08-03': [], '2024-08-04': [], '2024-08-05': [], '2024-08-06': [], '2024-08-07': [], '2024-08-08': [], '2024-08-09': [], '2024-08-10': [], '2024-08-11': [], '2024-08-12': [], '2024-08-13': [], '2024-08-14': [], '2024-08-15': [], '2024-08-16': [], '2024-08-17': [], '2024-08-18': [], '2024-08-19': [], '2024-08-20': [], '2024-08-21': [], '2024-08-22': ['23:45'], '2024-08-23': [], '2024-08-24': [], '2024-08-25': [], '2024-08-26': [], '2024-08-27': [], '2024-08-28': [], '2024-08-29': [], '2024-08-30': [], '2024-08-31': []}\n"
     ]
    }
   ],
   "source": [
    "from datetime import datetime, timedelta, timezone\n",
    "mycol = dbmethod( \"buff_online\", \"yeardate_time\")\n",
    "tzone = timezone(timedelta(hours=8))\n",
    "now = datetime.now(tz=tzone)\n",
    "id = now.isoformat()[5:7]\n",
    "print(\"id:\",id)\n",
    "mydoc = mycol.find_one({\"_id\":str(id)},{'_id': 0})\n",
    "YEARDATEDICT = mydoc\n",
    "print(YEARDATEDICT)"
   ]
  },
  {
   "cell_type": "code",
   "execution_count": 7,
   "metadata": {},
   "outputs": [],
   "source": [
    "def getyeardatedict():\n",
    "    mycol = dbmethod( \"buff_online\", \"yeardate_time\")\n",
    "    tzone = timezone(timedelta(hours=8))\n",
    "    now = datetime.now(tz=tzone)\n",
    "    id = now.isoformat()[5:7]\n",
    "    print(\"id:\",id)\n",
    "    mydoc = mycol.find_one({\"_id\":str(id)},{'_id': 0})\n",
    "    return mydoc\n"
   ]
  },
  {
   "cell_type": "code",
   "execution_count": 9,
   "metadata": {},
   "outputs": [
    {
     "name": "stdout",
     "output_type": "stream",
     "text": [
      "id: 08\n",
      "{'2024-08-01': [], '2024-08-02': [], '2024-08-03': [], '2024-08-04': [], '2024-08-05': [], '2024-08-06': [], '2024-08-07': [], '2024-08-08': [], '2024-08-09': [], '2024-08-10': [], '2024-08-11': [], '2024-08-12': [], '2024-08-13': [], '2024-08-14': [], '2024-08-15': [], '2024-08-16': [], '2024-08-17': [], '2024-08-18': [], '2024-08-19': [], '2024-08-20': [], '2024-08-21': [], '2024-08-22': ['23:45'], '2024-08-23': [], '2024-08-24': [], '2024-08-25': [], '2024-08-26': [], '2024-08-27': [], '2024-08-28': [], '2024-08-29': [], '2024-08-30': [], '2024-08-31': []}\n"
     ]
    }
   ],
   "source": [
    "from functions import getyeardatedict\n",
    "yeardate = getyeardatedict()\n",
    "print(yeardate)"
   ]
  },
  {
   "cell_type": "code",
   "execution_count": null,
   "metadata": {},
   "outputs": [],
   "source": []
  },
  {
   "cell_type": "code",
   "execution_count": 6,
   "metadata": {},
   "outputs": [
    {
     "name": "stdout",
     "output_type": "stream",
     "text": [
      "id: 08\n",
      "{'_id': '03', '2024-03-01': [], '2024-03-02': [], '2024-03-03': [], '2024-03-04': [], '2024-03-05': [], '2024-03-06': [], '2024-03-07': [], '2024-03-08': [], '2024-03-09': [], '2024-03-10': [], '2024-03-11': [], '2024-03-12': [], '2024-03-13': ['22:00', '20:40', '21:30'], '2024-03-14': ['20:50'], '2024-03-15': ['22:00', '21:10'], '2024-03-16': [], '2024-03-17': [], '2024-03-18': ['20:50', '21:50'], '2024-03-19': [], '2024-03-20': [], '2024-03-21': [], '2024-03-22': [], '2024-03-23': [], '2024-03-24': ['20:45'], '2024-03-25': ['20:05'], '2024-03-26': ['22:00'], '2024-03-27': [], '2024-03-28': [], '2024-03-29': [], '2024-03-30': [], '2024-03-31': []}\n",
      "{'_id': '04', '2024-04-01': [], '2024-04-02': ['22:00', '21:00'], '2024-04-03': ['20:00', '22:00'], '2024-04-04': ['20:40'], '2024-04-05': [], '2024-04-06': [], '2024-04-07': [], '2024-04-08': [], '2024-04-09': [], '2024-04-10': [], '2024-04-11': [], '2024-04-12': [], '2024-04-13': [], '2024-04-14': [], '2024-04-15': [], '2024-04-16': [], '2024-04-17': [], '2024-04-18': [], '2024-04-19': [], '2024-04-20': [], '2024-04-21': ['20:10'], '2024-04-22': ['21:40'], '2024-04-23': ['20:55', '20:30'], '2024-04-24': [], '2024-04-25': [], '2024-04-26': [], '2024-04-27': [], '2024-04-28': [], '2024-04-29': [], '2024-04-30': [], '2024-04-31': []}\n",
      "{'_id': '05', '2024-05-01': [], '2024-05-02': [], '2024-05-03': [], '2024-05-04': [], '2024-05-05': [], '2024-05-06': ['20:50', '22:00'], '2024-05-07': [], '2024-05-08': [], '2024-05-09': [], '2024-05-10': [], '2024-05-11': [], '2024-05-12': [], '2024-05-13': [], '2024-05-14': [], '2024-05-15': [], '2024-05-16': [], '2024-05-17': [], '2024-05-18': [], '2024-05-19': [], '2024-05-20': [], '2024-05-21': [], '2024-05-22': [], '2024-05-23': [], '2024-05-24': [], '2024-05-25': [], '2024-05-26': [], '2024-05-27': [], '2024-05-28': [], '2024-05-29': [], '2024-05-30': [], '2024-05-31': []}\n",
      "{'_id': '06', '2024-06-01': [], '2024-06-02': [], '2024-06-03': [], '2024-06-04': [], '2024-06-05': [], '2024-06-06': [], '2024-06-07': [], '2024-06-08': [], '2024-06-09': [], '2024-06-10': [], '2024-06-11': [], '2024-06-12': [], '2024-06-13': [], '2024-06-14': [], '2024-06-15': [], '2024-06-16': [], '2024-06-17': [], '2024-06-18': [], '2024-06-19': [], '2024-06-20': [], '2024-06-21': [], '2024-06-22': [], '2024-06-23': [], '2024-06-24': [], '2024-06-25': [], '2024-06-26': [], '2024-06-27': [], '2024-06-28': [], '2024-06-29': [], '2024-06-30': [], '2024-06-31': []}\n",
      "{'_id': '07', '2024-07-01': [], '2024-07-02': [], '2024-07-03': [], '2024-07-04': [], '2024-07-05': [], '2024-07-06': [], '2024-07-07': [], '2024-07-08': [], '2024-07-09': [], '2024-07-10': [], '2024-07-11': [], '2024-07-12': [], '2024-07-13': [], '2024-07-14': [], '2024-07-15': [], '2024-07-16': [], '2024-07-17': [], '2024-07-18': [], '2024-07-19': [], '2024-07-20': [], '2024-07-21': [], '2024-07-22': [], '2024-07-23': [], '2024-07-24': [], '2024-07-25': [], '2024-07-26': [], '2024-07-27': [], '2024-07-28': [], '2024-07-29': [], '2024-07-30': [], '2024-07-31': []}\n",
      "{'_id': '08', '2024-08-01': [], '2024-08-02': [], '2024-08-03': [], '2024-08-04': [], '2024-08-05': [], '2024-08-06': [], '2024-08-07': [], '2024-08-08': [], '2024-08-09': [], '2024-08-10': [], '2024-08-11': [], '2024-08-12': [], '2024-08-13': [], '2024-08-14': [], '2024-08-15': [], '2024-08-16': [], '2024-08-17': [], '2024-08-18': [], '2024-08-19': [], '2024-08-20': [], '2024-08-21': [], '2024-08-22': ['23:45'], '2024-08-23': [], '2024-08-24': [], '2024-08-25': [], '2024-08-26': [], '2024-08-27': [], '2024-08-28': [], '2024-08-29': [], '2024-08-30': [], '2024-08-31': []}\n",
      "{'_id': '09', '2024-09-01': [], '2024-09-02': [], '2024-09-03': [], '2024-09-04': [], '2024-09-05': [], '2024-09-06': [], '2024-09-07': [], '2024-09-08': [], '2024-09-09': [], '2024-09-10': [], '2024-09-11': [], '2024-09-12': [], '2024-09-13': [], '2024-09-14': [], '2024-09-15': [], '2024-09-16': [], '2024-09-17': [], '2024-09-18': [], '2024-09-19': [], '2024-09-20': [], '2024-09-21': [], '2024-09-22': [], '2024-09-23': [], '2024-09-24': [], '2024-09-25': [], '2024-09-26': [], '2024-09-27': [], '2024-09-28': [], '2024-09-29': [], '2024-09-30': [], '2024-09-31': []}\n",
      "{'_id': '10', '2024-10-01': [], '2024-10-02': [], '2024-10-03': [], '2024-10-04': [], '2024-10-05': [], '2024-10-06': [], '2024-10-07': [], '2024-10-08': [], '2024-10-09': [], '2024-10-10': [], '2024-10-11': [], '2024-10-12': [], '2024-10-13': [], '2024-10-14': [], '2024-10-15': [], '2024-10-16': [], '2024-10-17': [], '2024-10-18': [], '2024-10-19': [], '2024-10-20': [], '2024-10-21': [], '2024-10-22': [], '2024-10-23': [], '2024-10-24': [], '2024-10-25': [], '2024-10-26': [], '2024-10-27': [], '2024-10-28': [], '2024-10-29': [], '2024-10-30': [], '2024-10-31': []}\n",
      "{'_id': '11', '2024-11-01': [], '2024-11-02': [], '2024-11-03': [], '2024-11-04': [], '2024-11-05': [], '2024-11-06': [], '2024-11-07': [], '2024-11-08': [], '2024-11-09': [], '2024-11-10': [], '2024-11-11': [], '2024-11-12': [], '2024-11-13': [], '2024-11-14': [], '2024-11-15': [], '2024-11-16': [], '2024-11-17': [], '2024-11-18': [], '2024-11-19': [], '2024-11-20': [], '2024-11-21': [], '2024-11-22': [], '2024-11-23': [], '2024-11-24': [], '2024-11-25': [], '2024-11-26': [], '2024-11-27': [], '2024-11-28': [], '2024-11-29': [], '2024-11-30': [], '2024-11-31': []}\n",
      "{'_id': '12', '2024-12-01': [], '2024-12-02': [], '2024-12-03': [], '2024-12-04': [], '2024-12-05': [], '2024-12-06': [], '2024-12-07': [], '2024-12-08': [], '2024-12-09': [], '2024-12-10': [], '2024-12-11': [], '2024-12-12': [], '2024-12-13': [], '2024-12-14': [], '2024-12-15': [], '2024-12-16': [], '2024-12-17': [], '2024-12-18': [], '2024-12-19': [], '2024-12-20': [], '2024-12-21': [], '2024-12-22': [], '2024-12-23': [], '2024-12-24': [], '2024-12-25': [], '2024-12-26': [], '2024-12-27': [], '2024-12-28': [], '2024-12-29': [], '2024-12-30': [], '2024-12-31': []}\n"
     ]
    }
   ],
   "source": [
    "mycol = dbmethod( \"buff_online\", \"yeardate_time\")\n",
    "tzone = timezone(timedelta(hours=8))\n",
    "now = datetime.now(tz=tzone)\n",
    "id = now.isoformat()[5:7]\n",
    "print(\"id:\",id)\n",
    "mydoc = mycol.find()\n",
    "for data in mydoc:\n",
    "    print(data)"
   ]
  },
  {
   "cell_type": "code",
   "execution_count": 11,
   "metadata": {},
   "outputs": [
    {
     "name": "stdout",
     "output_type": "stream",
     "text": [
      "{'Uf8e734e58b67c12e0de1cd574a1718da': ['我喔', '欸欸']}\n"
     ]
    }
   ],
   "source": [
    "mycol = dbmethod( \"buff_online\", \"userid_trader_partner\")\n",
    "mydoc = mycol.find_one({\"_id\" : \"userid\"},{\"_id\":0})\n",
    "if mydoc is None:\n",
    "    USERID_TRADER_PARTNER = dict()\n",
    "else:\n",
    "    USERID_TRADER_PARTNER = mydoc\n",
    "print(USERID_TRADER_PARTNER)"
   ]
  },
  {
   "cell_type": "code",
   "execution_count": 12,
   "metadata": {},
   "outputs": [
    {
     "name": "stdout",
     "output_type": "stream",
     "text": [
      "{'Uf8e734e58b67c12e0de1cd574a1718da': ['我喔', '欸欸']}\n"
     ]
    }
   ],
   "source": [
    "def getusertraderpartner():\n",
    "    mycol = dbmethod( \"buff_online\", \"userid_trader_partner\")\n",
    "    mydoc = mycol.find_one({\"_id\" : \"userid\"},{\"_id\":0})\n",
    "    if mydoc is None:\n",
    "        mydoc = dict()\n",
    "        return mydoc\n",
    "    else:  \n",
    "        return mydoc\n",
    "USERID_TRADER_PARTNER = getusertraderpartner()\n",
    "print(USERID_TRADER_PARTNER)\n",
    "        \n"
   ]
  },
  {
   "cell_type": "code",
   "execution_count": 4,
   "metadata": {},
   "outputs": [
    {
     "name": "stdout",
     "output_type": "stream",
     "text": [
      "<pymongo.cursor.Cursor object at 0x000001E51953E740>\n",
      "{'Uf8e734e58b67c12e0de1cd574a1718da': ['2024-05-07', '22:00']}\n",
      "{'Uce735a5042b88aa7ce3b7b0a61694d6d': ['2024-03-25', '20:05']}\n",
      "{'U66da2ba27e83014da52f28455ef19c7c': ['2024-08-23', '23:20']}\n",
      "{'Uf8e734e58b67c12e0de1cd574a1718da': ['2024-05-07', '22:00'], 'Uce735a5042b88aa7ce3b7b0a61694d6d': ['2024-03-25', '20:05'], 'U66da2ba27e83014da52f28455ef19c7c': ['2024-08-23', '23:20']}\n"
     ]
    }
   ],
   "source": [
    "mycol = dbmethod( \"buff_online\", \"userid_yeardate_time\")\n",
    "mydoc = mycol.find({},{\"_id\": 0,\"userid\":0})\n",
    "# mydoc = mycol.find({})\n",
    "print(mydoc)\n",
    "USERID_YEARDATE_TIME = dict()\n",
    "for data in mydoc:\n",
    "    print(data)\n",
    "    eachuserid = list(data.keys())[0]      \n",
    "    USERID_YEARDATE_TIME[eachuserid] = data[eachuserid]\n",
    "print(USERID_YEARDATE_TIME)"
   ]
  },
  {
   "cell_type": "code",
   "execution_count": 10,
   "metadata": {},
   "outputs": [
    {
     "name": "stdout",
     "output_type": "stream",
     "text": [
      "{'Uf8e734e58b67c12e0de1cd574a1718da': ['2024-05-07', '22:00'], 'Uce735a5042b88aa7ce3b7b0a61694d6d': ['2024-03-25', '20:05'], 'U66da2ba27e83014da52f28455ef19c7c': ['2024-08-23', '23:20']}\n"
     ]
    }
   ],
   "source": [
    "def getuseridyeardatetime():\n",
    "    mycol = dbmethod( \"buff_online\", \"userid_yeardate_time\")\n",
    "    mydoc = mycol.find({},{\"_id\": 0,\"userid\":0})\n",
    "    # mydoc = mycol.find({})\n",
    "    \n",
    "    result = dict()\n",
    "    for data in mydoc:\n",
    "        eachuserid = list(data.keys())[0]      \n",
    "        result[eachuserid] = data[eachuserid]\n",
    "    return result\n",
    "data = getuseridyeardatetime()\n",
    "print(data)"
   ]
  },
  {
   "cell_type": "code",
   "execution_count": 11,
   "metadata": {},
   "outputs": [
    {
     "name": "stdout",
     "output_type": "stream",
     "text": [
      "{'_id': '1', 'userids': ['Ud13c8717e015fa3917146eaff9b14b5b', 'U6672403fcdf886b72bddc3ec115eb313', 'Uf8e734e58b67c12e0de1cd574a1718da', 'U66da2ba27e83014da52f28455ef19c7c', 'Uce735a5042b88aa7ce3b7b0a61694d6d']}\n",
      "USERIDSLIST： {'U66da2ba27e83014da52f28455ef19c7c', 'Uce735a5042b88aa7ce3b7b0a61694d6d', 'U6672403fcdf886b72bddc3ec115eb313', 'Uf8e734e58b67c12e0de1cd574a1718da', 'Ud13c8717e015fa3917146eaff9b14b5b'}\n"
     ]
    }
   ],
   "source": [
    "mycol = dbmethod( \"buff_online\", \"userid_points\")\n",
    "mydoc = mycol.find_one({\"_id\": \"1\"})\n",
    "USERIDSLIST=set(mydoc[\"userids\"])\n",
    "print(mydoc)\n",
    "print(\"USERIDSLIST：\",USERIDSLIST)"
   ]
  },
  {
   "cell_type": "code",
   "execution_count": 13,
   "metadata": {},
   "outputs": [
    {
     "name": "stdout",
     "output_type": "stream",
     "text": [
      "{'U66da2ba27e83014da52f28455ef19c7c', 'Uce735a5042b88aa7ce3b7b0a61694d6d', 'U6672403fcdf886b72bddc3ec115eb313', 'Uf8e734e58b67c12e0de1cd574a1718da', 'Ud13c8717e015fa3917146eaff9b14b5b'}\n"
     ]
    }
   ],
   "source": [
    "def getuseridlist():\n",
    "    mycol = dbmethod( \"buff_online\", \"userid_points\")\n",
    "    mydoc = mycol.find_one({\"_id\": \"1\"})\n",
    "    useridlist=set(mydoc[\"userids\"])\n",
    "    return useridlist\n",
    "\n",
    "data = getuseridlist()\n",
    "print(data)"
   ]
  },
  {
   "cell_type": "code",
   "execution_count": 14,
   "metadata": {},
   "outputs": [
    {
     "name": "stdout",
     "output_type": "stream",
     "text": [
      "2024-08-22 23:46:57.021715+08:00\n"
     ]
    }
   ],
   "source": [
    "def getnowdateandnowtime():\n",
    "    tzone = timezone(timedelta(hours=8))\n",
    "    nowdatetime = datetime.now(tz=tzone)\n",
    "    nowdate = nowdatetime.isoformat().split(\"T\")[0]\n",
    "    nowtime = nowdatetime.isoformat().split(\"T\")[1]\n",
    "    return nowdate, nowtime\n",
    "\n",
    "nowdate1, nowtime1 = getnowdateandnowtime()\n",
    "print(nowdate1,nowtime1)"
   ]
  },
  {
   "cell_type": "code",
   "execution_count": 15,
   "metadata": {},
   "outputs": [
    {
     "name": "stdout",
     "output_type": "stream",
     "text": [
      "True\n"
     ]
    }
   ],
   "source": [
    "print(nowtime1 > \"21:20\")"
   ]
  },
  {
   "cell_type": "code",
   "execution_count": null,
   "metadata": {},
   "outputs": [],
   "source": [
    "\n",
    "import threading\n",
    "import os\n",
    "import csv\n",
    "def writeintotemporder_thesame(USERID_TRADER_PARTNER, userId):\n",
    "    mycol = dbmethod( \"buff_online\", \"userid_trader_partner\")\n",
    "    mydoc = mycol.find_one({\"_id\":\"userid\"})\n",
    "    USERID_TRADER_PARTNER[userId] = mydoc[userId]\n",
    "    tradeName = USERID_TRADER_PARTNER[userId][0]\n",
    "    partyName = USERID_TRADER_PARTNER[userId][1]\n",
    "    print( \"一樣:\",tradeName,partyName)\n",
    "    tzone = timezone(timedelta(hours=8))\n",
    "    nowtime_thesame = datetime.now(tz=tzone).isoformat()[:16] \n",
    "    lock = threading.Lock()\n",
    "    with lock:\n",
    "        try:\n",
    "            mycol = dbmethod( \"buff_online\", \"userid_trader_partner\")\n",
    "            mycol.update_one({\"_id\":\"userid\"},{\"$set\":{userId:USERID_TRADER_PARTNER[userId]}},True)\n",
    "            mycol = dbmethod( \"buff_online\", \"temp_order\")\n",
    "            mycol.update_one({\"userId\":userId},{\"$set\":{\n",
    "                                                        'userId':userId,\n",
    "                                                        \"writetime\":nowtime_thesame,\n",
    "                                                        'Date':\"\",\n",
    "                                                        'time':\"\",\n",
    "                                                        'location':\"六條岔道\",\n",
    "                                                        'trade_name':tradeName,\n",
    "                                                        'party_name':partyName,\n",
    "                                                        'point':\"1\",\n",
    "                                                        }\n",
    "                                                        },\n",
    "                                                        True\n",
    "                        )\n",
    "            tzone = timezone(timedelta(hours=8))\n",
    "            nowtime_thesame2 = datetime.now(tz=tzone).isoformat()[:16]\n",
    "            mycol = dbmethod( \"buff_online\", \"userid_points\")\n",
    "            mydoc = mycol.find_one({\"_id\":userId},{\"_id\":0, \"nickname\": 1})\n",
    "            nicknameofthisuser = mydoc[\"nickname\"]\n",
    "            data = [\n",
    "                    #['write_yeardate_time','userid',       'nickname'         , 'date' ,  'time' , 'trade_name', 'party_name','remark']\n",
    "                    [    nowtime_thesame2  , userId ,    nicknameofthisuser    ,  None  ,   None  ,   tradeName ,  partyName  ,f'{nicknameofthisuser}，確認角色IDs']\n",
    "                ]\n",
    "            file_path = './Data/temp_order.csv'\n",
    "            file_exists = os.path.isfile(file_path)\n",
    "            \n",
    "            with open( file_path, 'a', newline='',encoding='utf-8') as csvfile:\n",
    "\n",
    "                csv_writer = csv.writer(csvfile)\n",
    "                if not file_exists:\n",
    "                    csv_writer.writerow(['write_yeardate_time','userid',    'nickname'    ,     'date'     ,    'time'    , 'trade_name', 'party_name','remark'])\n",
    "                csv_writer.writerows(data)\n",
    "                print(f'已成功寫入 {file_path}')\n",
    "            print(f\"userId:{userId}的交易角色ID:{tradeName}、組隊角色ID:{partyName}，寫入成功。\")\n",
    "        except:\n",
    "            print(f\"userId:{userId}的交易角色ID:{tradeName}、組隊角色ID:{partyName}，寫入失敗。\")\n"
   ]
  },
  {
   "cell_type": "code",
   "execution_count": 16,
   "metadata": {},
   "outputs": [
    {
     "name": "stdout",
     "output_type": "stream",
     "text": [
      "明明\n"
     ]
    }
   ],
   "source": [
    "userId = \"U66da2ba27e83014da52f28455ef19c7c\"\n",
    "mycol = dbmethod( \"buff_online\", \"userid_points\")\n",
    "mydoc = mycol.find_one({\"_id\":userId},{\"_id\":0, \"nickname\": 1})\n",
    "nicknameofthisuser = mydoc[\"nickname\"]\n",
    "print(nicknameofthisuser)\n"
   ]
  },
  {
   "cell_type": "code",
   "execution_count": 21,
   "metadata": {},
   "outputs": [
    {
     "ename": "ImportError",
     "evalue": "cannot import name 'getuseridlist' from 'mongofunction' (c:\\Users\\aaaa2\\OneDrive\\桌面\\BUFF機\\Buffonline_test\\mongofunction.py)",
     "output_type": "error",
     "traceback": [
      "\u001b[1;31m---------------------------------------------------------------------------\u001b[0m",
      "\u001b[1;31mImportError\u001b[0m                               Traceback (most recent call last)",
      "Cell \u001b[1;32mIn[21], line 1\u001b[0m\n\u001b[1;32m----> 1\u001b[0m \u001b[38;5;28;01mfrom\u001b[39;00m \u001b[38;5;21;01mmongofunction\u001b[39;00m \u001b[38;5;28;01mimport\u001b[39;00m getuseridlist\n\u001b[0;32m      2\u001b[0m \u001b[38;5;28mprint\u001b[39m(getuseridlist())\n",
      "\u001b[1;31mImportError\u001b[0m: cannot import name 'getuseridlist' from 'mongofunction' (c:\\Users\\aaaa2\\OneDrive\\桌面\\BUFF機\\Buffonline_test\\mongofunction.py)"
     ]
    }
   ],
   "source": [
    "from mongofunction import getuseridlist\n",
    "print(getuseridlist())"
   ]
  },
  {
   "cell_type": "code",
   "execution_count": 22,
   "metadata": {},
   "outputs": [
    {
     "name": "stdout",
     "output_type": "stream",
     "text": [
      "{'Uf8e734e58b67c12e0de1cd574a1718da', 'Ud13c8717e015fa3917146eaff9b14b5b', 'Uce735a5042b88aa7ce3b7b0a61694d6d'}\n"
     ]
    }
   ],
   "source": [
    "mycol = dbmethod( \"buff_online\", \"userid_points\")\n",
    "mydoc = mycol.find_one({\"_id\": \"1\"})\n",
    "useridlist=set(mydoc[\"userids\"])\n",
    "print(useridlist)"
   ]
  },
  {
   "cell_type": "code",
   "execution_count": 38,
   "metadata": {},
   "outputs": [
    {
     "name": "stdout",
     "output_type": "stream",
     "text": [
      "[{'point': '1', 'userId': 'U66da2ba27e83014da52f28455ef19c7c'}, {'point': '1', 'userId': 'U66da2ba27e83014da52f28455ef19c7c'}]\n",
      "set()\n",
      "{'U66da2ba27e83014da52f28455ef19c7c'}\n",
      "2\n",
      "更新點數成功。\n"
     ]
    }
   ],
   "source": [
    "\n",
    "mycol = dbmethod(\"buff_online\",\"final_order_240823\")\n",
    "mydoc = mycol.find({},{\"_id\":0,'userId': 1,'point': 1})\n",
    "updatepoint_userid = set()\n",
    "list1 = list(mydoc)\n",
    "print(list1)\n",
    "for data in list1:\n",
    "    print(updatepoint_userid)\n",
    "    updatepoint_userid.add(data[\"userId\"])\n",
    "    # print(type(updatepoint_userid))\n",
    "for userId in updatepoint_userid:\n",
    "    try:\n",
    "        mycol = dbmethod(\"buff_online\",f\"final_order_240823\")\n",
    "        points = mycol.count_documents({\"userId\":userId})\n",
    "        mycol.update_one({\"_id\":userId},{\"$inc\":{\"points\":points}})\n",
    "        print(points)\n",
    "        print(\"更新點數成功。\")\n",
    "        message = {\n",
    "            \"type\":\"text\",\n",
    "            \"text\":\"更新點數成功\"\n",
    "        }\n",
    "    except:\n",
    "        print(\"更新點數失敗。\")\n",
    "        message = {\n",
    "            \"type\":\"text\",\n",
    "            \"text\":\"更新點數失敗\"\n",
    "            }"
   ]
  },
  {
   "cell_type": "code",
   "execution_count": 50,
   "metadata": {},
   "outputs": [
    {
     "name": "stdout",
     "output_type": "stream",
     "text": [
      "[{'point': '1', 'userId': 'U66da2ba27e83014da52f28455ef19c7c'}, {'point': '1', 'userId': 'U66da2ba27e83014da52f28455ef19c7c'}]\n",
      "set()\n",
      "{'U66da2ba27e83014da52f28455ef19c7c'}\n",
      "更新點數成功。\n"
     ]
    }
   ],
   "source": [
    "import threading\n",
    "lock =threading.Lock()\n",
    "with lock:\n",
    "    tzone = timezone(timedelta(hours=8))\n",
    "    yeardate = datetime.now(tz=tzone)\n",
    "    yeardate = yeardate.isoformat().split(\"T\")[0]\n",
    "    yeardate = yeardate.replace(\"-\",\"\")[2:]\n",
    "    mycol = dbmethod(\"buff_online\",f\"final_order_{yeardate}\")\n",
    "    mydoc = mycol.find({},{\"_id\":0,'userId': 1,'point': 1})\n",
    "    updatepoint_userid = set()\n",
    "    list1 = list(mydoc)\n",
    "    print(list1)\n",
    "    for data in list1:\n",
    "        print(updatepoint_userid)\n",
    "        updatepoint_userid.add(data[\"userId\"])\n",
    "        # print(type(updatepoint_userid))\n",
    "    for userId in updatepoint_userid:\n",
    "        try:\n",
    "            mycol = dbmethod(\"buff_online\",f\"final_order_{yeardate}\")\n",
    "            mydoc = mycol.count_documents({\"userId\":userId})\n",
    "            mycol = dbmethod(\"buff_online\",\"userid_points\")\n",
    "            mycol.update_one({\"_id\":userId},{\"$inc\":{\"points\":mydoc}})\n",
    "            print(\"更新點數成功。\")\n",
    "            message = {\n",
    "                \"type\":\"text\",\n",
    "                \"text\":\"更新點數成功\"\n",
    "            }\n",
    "        except:\n",
    "            print(\"更新點數失敗。\")\n",
    "            message = {\n",
    "                \"type\":\"text\",\n",
    "                \"text\":\"更新點數失敗\"\n",
    "            }"
   ]
  },
  {
   "cell_type": "code",
   "execution_count": 51,
   "metadata": {},
   "outputs": [
    {
     "name": "stdout",
     "output_type": "stream",
     "text": [
      "{'Uf8e734e58b67c12e0de1cd574a1718da': ['2024-05-07', '22:00'], 'Uce735a5042b88aa7ce3b7b0a61694d6d': ['2024-03-25', '20:05'], 'U66da2ba27e83014da52f28455ef19c7c': ['2024-08-23', '21:15']}\n"
     ]
    }
   ],
   "source": [
    "from functions import getuseridyeardatetime\n",
    "print(getuseridyeardatetime())"
   ]
  },
  {
   "cell_type": "code",
   "execution_count": 60,
   "metadata": {},
   "outputs": [
    {
     "name": "stdout",
     "output_type": "stream",
     "text": [
      "{'Uf8e734e58b67c12e0de1cd574a1718da': ['2024-05-07', '22:00'], 'Uce735a5042b88aa7ce3b7b0a61694d6d': ['2024-03-25', '20:05'], 'U66da2ba27e83014da52f28455ef19c7c': ['2024-08-23', '21:50']}\n"
     ]
    }
   ],
   "source": [
    "import functions as ft\n",
    "data =ft.getuseridyeardatetime()\n",
    "print(data)"
   ]
  },
  {
   "cell_type": "code",
   "execution_count": 59,
   "metadata": {},
   "outputs": [
    {
     "name": "stdout",
     "output_type": "stream",
     "text": [
      "{'Uf8e734e58b67c12e0de1cd574a1718da': ['2024-05-07', '22:00'], 'Uce735a5042b88aa7ce3b7b0a61694d6d': ['2024-03-25', '20:05'], 'U66da2ba27e83014da52f28455ef19c7c': ['2024-08-23', '21:50']}\n"
     ]
    }
   ],
   "source": [
    "mycol = dbmethod( \"buff_online\", \"userid_yeardate_time\")\n",
    "mydoc = mycol.find({},{\"_id\": 0,\"userid\":0})\n",
    "# mydoc = mycol.find({})\n",
    "\n",
    "result = dict()\n",
    "for data in mydoc:\n",
    "    eachuserid = list(data.keys())[0]      \n",
    "    result[eachuserid] = data[eachuserid]\n",
    "print(result)"
   ]
  },
  {
   "cell_type": "code",
   "execution_count": 62,
   "metadata": {},
   "outputs": [
    {
     "name": "stdout",
     "output_type": "stream",
     "text": [
      "id: 08\n",
      "{'2024-08-01': [], '2024-08-02': [], '2024-08-03': [], '2024-08-04': [], '2024-08-05': [], '2024-08-06': [], '2024-08-07': [], '2024-08-08': [], '2024-08-09': [], '2024-08-10': [], '2024-08-11': [], '2024-08-12': [], '2024-08-13': [], '2024-08-14': [], '2024-08-15': [], '2024-08-16': [], '2024-08-17': [], '2024-08-18': [], '2024-08-19': [], '2024-08-20': [], '2024-08-21': [], '2024-08-22': ['23:45'], '2024-08-23': ['20:50', '20:05', '21:30', '21:50'], '2024-08-24': [], '2024-08-25': [], '2024-08-26': [], '2024-08-27': [], '2024-08-28': [], '2024-08-29': [], '2024-08-30': [], '2024-08-31': []}\n"
     ]
    }
   ],
   "source": [
    "data = ft.getyeardatedict()\n",
    "print(data)"
   ]
  },
  {
   "cell_type": "code",
   "execution_count": 67,
   "metadata": {},
   "outputs": [
    {
     "ename": "TypeError",
     "evalue": "getuseridyeardatetime() takes 0 positional arguments but 1 was given",
     "output_type": "error",
     "traceback": [
      "\u001b[1;31m---------------------------------------------------------------------------\u001b[0m",
      "\u001b[1;31mTypeError\u001b[0m                                 Traceback (most recent call last)",
      "Cell \u001b[1;32mIn[67], line 1\u001b[0m\n\u001b[1;32m----> 1\u001b[0m thisuser_yeardate_time \u001b[38;5;241m=\u001b[39m \u001b[43mft\u001b[49m\u001b[38;5;241;43m.\u001b[39;49m\u001b[43mgetuseridyeardatetime\u001b[49m\u001b[43m(\u001b[49m\u001b[43muserId\u001b[49m\u001b[43m)\u001b[49m\n",
      "\u001b[1;31mTypeError\u001b[0m: getuseridyeardatetime() takes 0 positional arguments but 1 was given"
     ]
    }
   ],
   "source": [
    "thisuser_yeardate_time = ft.getuseridyeardatetime(userId)"
   ]
  },
  {
   "cell_type": "code",
   "execution_count": 68,
   "metadata": {},
   "outputs": [
    {
     "ename": "TypeError",
     "evalue": "getuseridyeardatetime() takes 0 positional arguments but 1 was given",
     "output_type": "error",
     "traceback": [
      "\u001b[1;31m---------------------------------------------------------------------------\u001b[0m",
      "\u001b[1;31mTypeError\u001b[0m                                 Traceback (most recent call last)",
      "Cell \u001b[1;32mIn[68], line 2\u001b[0m\n\u001b[0;32m      1\u001b[0m \u001b[38;5;28;01mfrom\u001b[39;00m \u001b[38;5;21;01mfunctions\u001b[39;00m \u001b[38;5;28;01mimport\u001b[39;00m getuseridyeardatetime\n\u001b[1;32m----> 2\u001b[0m data \u001b[38;5;241m=\u001b[39m \u001b[43mgetuseridyeardatetime\u001b[49m\u001b[43m(\u001b[49m\u001b[43muserId\u001b[49m\u001b[43m)\u001b[49m\n\u001b[0;32m      3\u001b[0m \u001b[38;5;28mprint\u001b[39m(data)\n",
      "\u001b[1;31mTypeError\u001b[0m: getuseridyeardatetime() takes 0 positional arguments but 1 was given"
     ]
    }
   ],
   "source": [
    "from functions import getuseridyeardatetime\n",
    "data = getuseridyeardatetime(userId)\n",
    "print(data)"
   ]
  },
  {
   "cell_type": "code",
   "execution_count": 70,
   "metadata": {},
   "outputs": [
    {
     "name": "stdout",
     "output_type": "stream",
     "text": [
      "['2024-08-23', '21:50']\n"
     ]
    }
   ],
   "source": [
    "def getuseridyeardatetime(userId):\n",
    "    mycol = dbmethod( \"buff_online\", \"userid_yeardate_time\")\n",
    "    mydoc = mycol.find({},{\"_id\": 0,\"userid\":0})\n",
    "    # mydoc = mycol.find({})\n",
    "    \n",
    "    result = dict()\n",
    "    for data in mydoc:\n",
    "        eachuserid = list(data.keys())[0]      \n",
    "        result[eachuserid] = data[eachuserid]\n",
    "    return result[userId]\n",
    "print(getuseridyeardatetime(userId))"
   ]
  },
  {
   "cell_type": "code",
   "execution_count": 2,
   "metadata": {},
   "outputs": [
    {
     "name": "stdout",
     "output_type": "stream",
     "text": [
      "['2024-08-23', '21:50']\n"
     ]
    }
   ],
   "source": [
    "from functions import getuseridyeardatetime\n",
    "userId = 'U66da2ba27e83014da52f28455ef19c7c'\n",
    "data = getuseridyeardatetime(userId)\n",
    "print(data)"
   ]
  },
  {
   "cell_type": "code",
   "execution_count": 4,
   "metadata": {},
   "outputs": [
    {
     "name": "stdout",
     "output_type": "stream",
     "text": [
      "id: 08\n",
      "{'2024-08-01': [], '2024-08-02': [], '2024-08-03': [], '2024-08-04': [], '2024-08-05': [], '2024-08-06': [], '2024-08-07': [], '2024-08-08': [], '2024-08-09': [], '2024-08-10': [], '2024-08-11': [], '2024-08-12': [], '2024-08-13': [], '2024-08-14': [], '2024-08-15': [], '2024-08-16': [], '2024-08-17': [], '2024-08-18': [], '2024-08-19': [], '2024-08-20': [], '2024-08-21': [], '2024-08-22': ['23:45'], '2024-08-23': ['22:00'], '2024-08-24': [], '2024-08-25': [], '2024-08-26': [], '2024-08-27': [], '2024-08-28': [], '2024-08-29': [], '2024-08-30': [], '2024-08-31': []}\n"
     ]
    }
   ],
   "source": [
    "from functions import getyeardatedict\n",
    "data = getyeardatedict()\n",
    "print(data)\n"
   ]
  },
  {
   "cell_type": "code",
   "execution_count": 16,
   "metadata": {},
   "outputs": [
    {
     "name": "stdout",
     "output_type": "stream",
     "text": [
      "id: 08\n",
      "{'2024-08-01': [], '2024-08-02': [], '2024-08-03': [], '2024-08-04': [], '2024-08-05': [], '2024-08-06': [], '2024-08-07': [], '2024-08-08': [], '2024-08-09': [], '2024-08-10': [], '2024-08-11': [], '2024-08-12': [], '2024-08-13': [], '2024-08-14': [], '2024-08-15': [], '2024-08-16': [], '2024-08-17': [], '2024-08-18': [], '2024-08-19': [], '2024-08-20': [], '2024-08-21': [], '2024-08-22': ['23:45'], '2024-08-23': ['23:05'], '2024-08-24': [], '2024-08-25': [], '2024-08-26': [], '2024-08-27': [], '2024-08-28': [], '2024-08-29': [], '2024-08-30': [], '2024-08-31': []}\n"
     ]
    }
   ],
   "source": [
    "from functions import getyeardatedict\n",
    "data = getyeardatedict()\n",
    "print(data)"
   ]
  },
  {
   "cell_type": "code",
   "execution_count": 13,
   "metadata": {},
   "outputs": [
    {
     "name": "stdout",
     "output_type": "stream",
     "text": [
      "id: 08\n",
      "['23:05']\n"
     ]
    }
   ],
   "source": [
    "import threading\n",
    "from mongofunction import dbmethod\n",
    "from datetime import timezone, timedelta, datetime\n",
    "lock =threading.Lock()\n",
    "with lock:\n",
    "    mycol = dbmethod( \"buff_online\", \"yeardate_time\")\n",
    "    tzone = timezone(timedelta(hours=8))\n",
    "    now = datetime.now(tz=tzone)\n",
    "    id = now.isoformat()[5:7]\n",
    "    yeardate = now.isoformat()[0:10]\n",
    "    print(\"id:\",id)\n",
    "    mydoc = mycol.find_one({\"_id\":str(id)},{'_id': 0})\n",
    "    print(mydoc[yeardate])"
   ]
  },
  {
   "cell_type": "code",
   "execution_count": 1,
   "metadata": {},
   "outputs": [
    {
     "name": "stdout",
     "output_type": "stream",
     "text": [
      "id: 08\n",
      "{'2024-08-01': [], '2024-08-02': [], '2024-08-03': [], '2024-08-04': [], '2024-08-05': [], '2024-08-06': [], '2024-08-07': [], '2024-08-08': [], '2024-08-09': [], '2024-08-10': [], '2024-08-11': [], '2024-08-12': [], '2024-08-13': [], '2024-08-14': [], '2024-08-15': [], '2024-08-16': [], '2024-08-17': [], '2024-08-18': [], '2024-08-19': [], '2024-08-20': [], '2024-08-21': [], '2024-08-22': ['23:45'], '2024-08-23': ['23:05'], '2024-08-24': [], '2024-08-25': [], '2024-08-26': [], '2024-08-27': [], '2024-08-28': [], '2024-08-29': [], '2024-08-30': [], '2024-08-31': []}\n",
      "{'2024-08-01': [], '2024-08-02': [], '2024-08-03': [], '2024-08-04': [], '2024-08-05': [], '2024-08-06': [], '2024-08-07': [], '2024-08-08': [], '2024-08-09': [], '2024-08-10': [], '2024-08-11': [], '2024-08-12': [], '2024-08-13': [], '2024-08-14': [], '2024-08-15': [], '2024-08-16': [], '2024-08-17': [], '2024-08-18': [], '2024-08-19': [], '2024-08-20': [], '2024-08-21': [], '2024-08-22': ['23:45'], '2024-08-23': ['23:05'], '2024-08-24': [], '2024-08-25': [], '2024-08-26': [], '2024-08-27': [], '2024-08-28': [], '2024-08-29': [], '2024-08-30': [], '2024-08-31': []}\n"
     ]
    }
   ],
   "source": [
    "from functions import getyeardatedict\n",
    "data = getyeardatedict()\n",
    "print(data)"
   ]
  },
  {
   "cell_type": "code",
   "execution_count": 3,
   "metadata": {},
   "outputs": [
    {
     "name": "stdout",
     "output_type": "stream",
     "text": [
      "id: 08\n",
      "{'2024-08-01': [], '2024-08-02': [], '2024-08-03': [], '2024-08-04': [], '2024-08-05': [], '2024-08-06': [], '2024-08-07': [], '2024-08-08': [], '2024-08-09': [], '2024-08-10': [], '2024-08-11': [], '2024-08-12': [], '2024-08-13': [], '2024-08-14': [], '2024-08-15': [], '2024-08-16': [], '2024-08-17': [], '2024-08-18': [], '2024-08-19': [], '2024-08-20': [], '2024-08-21': [], '2024-08-22': ['23:45'], '2024-08-23': ['23:05'], '2024-08-24': [], '2024-08-25': [], '2024-08-26': [], '2024-08-27': [], '2024-08-28': [], '2024-08-29': [], '2024-08-30': [], '2024-08-31': []}\n",
      "{'2024-08-01': [], '2024-08-02': [], '2024-08-03': [], '2024-08-04': [], '2024-08-05': [], '2024-08-06': [], '2024-08-07': [], '2024-08-08': [], '2024-08-09': [], '2024-08-10': [], '2024-08-11': [], '2024-08-12': [], '2024-08-13': [], '2024-08-14': [], '2024-08-15': [], '2024-08-16': [], '2024-08-17': [], '2024-08-18': [], '2024-08-19': [], '2024-08-20': [], '2024-08-21': [], '2024-08-22': ['23:45'], '2024-08-23': ['23:05'], '2024-08-24': [], '2024-08-25': [], '2024-08-26': [], '2024-08-27': [], '2024-08-28': [], '2024-08-29': [], '2024-08-30': [], '2024-08-31': []}\n"
     ]
    }
   ],
   "source": [
    "from functions import getyeardatedict\n",
    "data = getyeardatedict()\n",
    "print(data)"
   ]
  },
  {
   "cell_type": "code",
   "execution_count": null,
   "metadata": {},
   "outputs": [],
   "source": [
    "CHECKLIST = ['23:05', '23:10', '23:15', '23:20', '23:25', '23:30', '23:35', '23:40', '23:45', '23:50', '23:55', '23:59']\n"
   ]
  },
  {
   "cell_type": "code",
   "execution_count": null,
   "metadata": {},
   "outputs": [],
   "source": [
    "points_and_separator = [{\n",
    "                        \"type\": \"box\",\n",
    "                        \"layout\": \"baseline\",\n",
    "                        \"contents\": [\n",
    "                        {\n",
    "                            \"type\": \"icon\",\n",
    "                            \"url\": yellow_star,\n",
    "                            \"size\": \"32px\",\n",
    "                            \"offsetStart\": \"18px\"\n",
    "                        }\n",
    "                        ]\n",
    "                    },\n",
    "                    {\n",
    "                        \"type\": \"separator\"\n",
    "                    },{\n",
    "            \"type\": \"box\",\n",
    "            \"layout\": \"baseline\",\n",
    "            \"contents\": [\n",
    "              {\n",
    "                \"type\": \"icon\",\n",
    "                \"url\": gray_star,\n",
    "                \"size\": \"32px\",\n",
    "                \"offsetStart\": \"18px\"\n",
    "              }\n",
    "            ]\n",
    "          }\n",
    "\n",
    "          ]\n",
    "\n",
    "{\n",
    "\"type\": \"box\",\n",
    "\"layout\": \"horizontal\",\n",
    "\"contents\": [\n",
    "{\n",
    "\"type\": \"separator\"\n",
    "},\n",
    "]\n",
    "},"
   ]
  },
  {
   "cell_type": "code",
   "execution_count": 1,
   "metadata": {},
   "outputs": [
    {
     "data": {
      "text/plain": [
       "2.5"
      ]
     },
     "execution_count": 1,
     "metadata": {},
     "output_type": "execute_result"
    }
   ],
   "source": [
    "5/2"
   ]
  },
  {
   "cell_type": "code",
   "execution_count": 2,
   "metadata": {},
   "outputs": [
    {
     "data": {
      "text/plain": [
       "2"
      ]
     },
     "execution_count": 2,
     "metadata": {},
     "output_type": "execute_result"
    }
   ],
   "source": [
    "5//2"
   ]
  },
  {
   "cell_type": "code",
   "execution_count": 3,
   "metadata": {},
   "outputs": [
    {
     "data": {
      "text/plain": [
       "1"
      ]
     },
     "execution_count": 3,
     "metadata": {},
     "output_type": "execute_result"
    }
   ],
   "source": [
    "5%2"
   ]
  },
  {
   "cell_type": "code",
   "execution_count": 4,
   "metadata": {},
   "outputs": [
    {
     "data": {
      "text/plain": [
       "0"
      ]
     },
     "execution_count": 4,
     "metadata": {},
     "output_type": "execute_result"
    }
   ],
   "source": [
    "1//5"
   ]
  },
  {
   "cell_type": "code",
   "execution_count": 5,
   "metadata": {},
   "outputs": [
    {
     "data": {
      "text/plain": [
       "3"
      ]
     },
     "execution_count": 5,
     "metadata": {},
     "output_type": "execute_result"
    }
   ],
   "source": [
    "3%5"
   ]
  },
  {
   "cell_type": "code",
   "execution_count": 13,
   "metadata": {},
   "outputs": [
    {
     "name": "stdout",
     "output_type": "stream",
     "text": [
      "日期 240923\n",
      "{'_id': '06', 'Date': '2024-09-23', 'location': '六條岔道', 'party_name': '安安', 'point': '1', 'time': '23:35', 'trade_name': '安安', 'userId': 'U66da2ba27e83014da52f28455ef19c7c', 'writetime': '2024-09-23T21:04'}\n"
     ]
    }
   ],
   "source": [
    "from datetime import datetime, timezone, timedelta\n",
    "from mongofunction import dbmethod\n",
    "tzone = timezone(timedelta(hours=8))\n",
    "yeardate = datetime.now(tz=tzone)\n",
    "yeardate = yeardate.isoformat().split(\"T\")[0].replace(\"-\",\"\")[2:]\n",
    "print(\"日期\",yeardate)\n",
    "mycol = dbmethod(\"buff_online\", f\"final_order_{str(yeardate)}\")\n",
    "mydoc = mycol.find({}).sort('time',1)\n",
    "for data in mydoc:\n",
    "    print(data)"
   ]
  },
  {
   "cell_type": "code",
   "execution_count": 72,
   "metadata": {},
   "outputs": [
    {
     "name": "stdout",
     "output_type": "stream",
     "text": [
      "{'_id': 'U66da2ba27e83014da52f28455ef19c7c', 'nickname': '安安', 'got_reward_card_time': '2024-09-09-23:29', 'points': 3, 'userid_state': 4}\n",
      "4\n"
     ]
    }
   ],
   "source": [
    "userId = \"U66da2ba27e83014da52f28455ef19c7c\"\n",
    "mycol = dbmethod(\"buff_online\", \"userid_points\")\n",
    "mydoc = mycol.find_one({\"_id\":userId})\n",
    "print(mydoc)\n",
    "print(mydoc[\"userid_state\"])"
   ]
  },
  {
   "cell_type": "code",
   "execution_count": 17,
   "metadata": {},
   "outputs": [
    {
     "data": {
      "text/plain": [
       "UpdateResult({'n': 1, 'electionId': ObjectId('7fffffff0000000000000217'), 'opTime': {'ts': Timestamp(1727098383, 19), 't': 535}, 'nModified': 1, 'ok': 1.0, '$clusterTime': {'clusterTime': Timestamp(1727098383, 19), 'signature': {'hash': b'\\xd7\\xc1q\\xba\\xfc\\xa9\\xbe~\\xb6l\\x04\\x8dE\\xb3\\x99\\xde\\xb4\\x8d\\xe3\\x1f', 'keyId': 7377340735927877638}}, 'operationTime': Timestamp(1727098383, 19), 'updatedExisting': True}, acknowledged=True)"
      ]
     },
     "execution_count": 17,
     "metadata": {},
     "output_type": "execute_result"
    }
   ],
   "source": [
    "Reserve_willing = 1\n",
    "mycol = dbmethod(\"buff_online\", \"userid_points\")\n",
    "mycol.update_one({\"_id\":userId},{\"$set\":{\"Reserve_willing\":Reserve_willing}},True)\n"
   ]
  }
 ],
 "metadata": {
  "kernelspec": {
   "display_name": "Buffonline-tBp-H5aw",
   "language": "python",
   "name": "python3"
  },
  "language_info": {
   "codemirror_mode": {
    "name": "ipython",
    "version": 3
   },
   "file_extension": ".py",
   "mimetype": "text/x-python",
   "name": "python",
   "nbconvert_exporter": "python",
   "pygments_lexer": "ipython3",
   "version": "3.10.10"
  }
 },
 "nbformat": 4,
 "nbformat_minor": 2
}
